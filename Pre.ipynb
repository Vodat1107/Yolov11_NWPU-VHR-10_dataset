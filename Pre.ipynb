{
 "cells": [
  {
   "cell_type": "code",
   "execution_count": 2,
   "id": "b4d98f72",
   "metadata": {},
   "outputs": [],
   "source": [
    "from ultralytics import YOLO"
   ]
  },
  {
   "cell_type": "code",
   "execution_count": 3,
   "id": "29af9076",
   "metadata": {},
   "outputs": [],
   "source": [
    "model = YOLO(\"best.pt\") "
   ]
  },
  {
   "cell_type": "code",
   "execution_count": 5,
   "id": "19ca1773",
   "metadata": {},
   "outputs": [
    {
     "name": "stdout",
     "output_type": "stream",
     "text": [
      "\n",
      "image 1/1 /Users/thanhdat/Documents/Năm 3/Nhận dạng mẫu/Yolov11_NWPU VHR-10_dataset/NWPU VHR-10 dataset/data_truth/images/test/054.jpg: 544x640 5 airplanes, 94.4ms\n",
      "Speed: 2.7ms preprocess, 94.4ms inference, 0.8ms postprocess per image at shape (1, 3, 544, 640)\n"
     ]
    }
   ],
   "source": [
    "results = model(\"/Users/thanhdat/Documents/Năm 3/Nhận dạng mẫu/Yolov11_NWPU VHR-10_dataset/NWPU VHR-10 dataset/data_truth/images/test/054.jpg\")\n",
    "results[0].show()"
   ]
  }
 ],
 "metadata": {
  "kernelspec": {
   "display_name": "Python 3",
   "language": "python",
   "name": "python3"
  },
  "language_info": {
   "codemirror_mode": {
    "name": "ipython",
    "version": 3
   },
   "file_extension": ".py",
   "mimetype": "text/x-python",
   "name": "python",
   "nbconvert_exporter": "python",
   "pygments_lexer": "ipython3",
   "version": "3.12.0"
  }
 },
 "nbformat": 4,
 "nbformat_minor": 5
}
